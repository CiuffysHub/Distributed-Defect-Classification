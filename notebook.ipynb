{
  "cells": [
    {
      "attachments": {},
      "cell_type": "markdown",
      "metadata": {
        "id": "xwIOJQYxPAhD"
      },
      "source": [
        "# Big Data Project\n",
        "## Textile Defect Detection: Image Classification\n",
        "The purpose of this project is to investigate how the different components of a Spark + Hadoop distributed environment interact in a distributed image classification task. We want to correctly assign **'good'** or **'defect'** labels to collected images of textile **patches**. \n",
        "\n",
        "The system **pipeline** is described as follows:\n",
        "\n",
        "\n",
        "1.   Each machine in the distributed system collects textile images\n",
        "2.   The images are uploaded to a Hadoop Distributed File System\n",
        "3.   We use Spark to classify all images at request\n",
        "\n",
        "The task we are implementing in this notebook concerns **Step 3**:\n",
        "\n",
        "\n",
        "*   Convert dataset from h5 to png pictures\n",
        "*   Create Train and Test splits\n",
        "*   Train three simple models (**Approximate Similarity Join, K-Means, Bisecting K-Means**)\n",
        "*   Evaluate the results through **F1 score**\n",
        "\n",
        "\n",
        "We simulate the collection of images by uploading the TDD dataset directly to the HDFS.\n",
        "\n"
      ]
    },
    {
      "cell_type": "code",
      "execution_count": 5,
      "metadata": {
        "id": "gZTNxoTIK0-0"
      },
      "outputs": [],
      "source": [
        "# import the libraries\n",
        "import os\n",
        "import numpy as np\n",
        "import h5py   # to manipulate the dataset as it's in `.h5` format\n",
        "import matplotlib.pyplot as plt\n",
        "import matplotlib.image as mpimg"
      ]
    },
    {
      "attachments": {},
      "cell_type": "markdown",
      "metadata": {
        "id": "YH_6fpZs1ns1"
      },
      "source": [
        "# Dataset"
      ]
    },
    {
      "attachments": {},
      "cell_type": "markdown",
      "metadata": {
        "id": "mxgSNX4aQz8K"
      },
      "source": [
        "## Dataset Description"
      ]
    },
    {
      "attachments": {},
      "cell_type": "markdown",
      "metadata": {
        "id": "wWk6hGRmWcS8"
      },
      "source": [
        "The dataset can be found at Kaggle - Textile Defect Detection (https://www.kaggle.com/datasets/belkhirnacim/textiledefectdetection). It has multiple formats: we choose to use the **72.000 images**, **64x64 resolution** h5 file. \n",
        "\n",
        "It contains 6 defect classes (color, good, cut, hole, metal contamination, thread), each having 12.000 images, but we are going to put all the defective classes together, ending up with 50.000 defective pictures in the class 'defect' and 12.000 images in the 'good' class (no defect). This operation is going to produce an **unbalanced** dataset, so we have to be careful in order to draw conclusions."
      ]
    },
    {
      "attachments": {},
      "cell_type": "markdown",
      "metadata": {
        "id": "EfFJTbqXyupO"
      },
      "source": [
        "## Dataset Preprocessing (not distributed)"
      ]
    },
    {
      "attachments": {},
      "cell_type": "markdown",
      "metadata": {
        "id": "B6tJq529y05R"
      },
      "source": [
        "We need to convert the images from h5 format to png format. In an ideal envornment you would collect the pictures already in png format from the acquisition device. **This part is not ran on Spark** but it's just a data preprocessing step that is necessary to work with the chosen dataset. The code is left in this section for the sake of completion."
      ]
    },
    {
      "cell_type": "code",
      "execution_count": 7,
      "metadata": {
        "id": "xF3v5q9-Ku0B"
      },
      "outputs": [],
      "source": [
        "import tensorflow as tf    # used for creating tensors out of the dataset and training the model\n",
        "\n",
        "# create an object that will take the dataset and produce the dataset in a format required for tensorflow dataset's API\n",
        "class H5ToStorage:\n",
        "  def __init__(self, hdf_path):\n",
        "    self.path = hdf_path\n",
        "\n",
        "    self.classes = []\n",
        "    with h5py.File(self.path, 'r') as hf:\n",
        "      for class_ in hf:\n",
        "        self.classes.append(class_)\n",
        "\n",
        "  # a generator to load the (img, class, angle)\n",
        "  def generate_img_arr(self):\n",
        "    for class_ in self.classes:\n",
        "      with h5py.File(self.path, 'r') as hf:\n",
        "        for angle in hf[class_]:\n",
        "            for img in hf[class_][f\"{angle}\"]:\n",
        "                yield img, class_, angle\n",
        "  \n",
        "  # utilize the generator to create new images and load it back to Storage\n",
        "  def generate_train_dirs(self):\n",
        "    # create the dataset's directories\n",
        "    path = f\"./dataset/train\"\n",
        "\n",
        "    gen = self.generate_img_arr()\n",
        "    metadata = {}\n",
        "\n",
        "    for i, data in enumerate(gen):\n",
        "        img, label, angle = data\n",
        "\n",
        "        if label != 'good':\n",
        "          label = 'defect'\n",
        "\n",
        "        img_path = f\"{path}/\"+label+f\"_{i}.png\"\n",
        "        plt.imsave(img_path, np.squeeze(img)*255., cmap=\"gray\")\n",
        "\n",
        "        metadata[img_path] = angle\n",
        "    return metadata"
      ]
    },
    {
      "cell_type": "code",
      "execution_count": 8,
      "metadata": {
        "id": "f4D4PrC0MQuH"
      },
      "outputs": [],
      "source": [
        "!mkdir dataset\n",
        "!mkdir dataset/train"
      ]
    },
    {
      "cell_type": "code",
      "execution_count": 9,
      "metadata": {
        "id": "gJYf1qBqLYiG"
      },
      "outputs": [],
      "source": [
        "# generate train data\n",
        "train_gen = H5ToStorage(\"/content/matchingtDATASET_train_64.h5\")\n",
        "train_dict = train_gen.generate_train_dirs()"
      ]
    },
    {
      "attachments": {},
      "cell_type": "markdown",
      "metadata": {
        "id": "d5kZCqoX1hQE"
      },
      "source": [
        "## Dataset Visualization"
      ]
    },
    {
      "attachments": {},
      "cell_type": "markdown",
      "metadata": {
        "id": "ZfXh-YpPYaPX"
      },
      "source": [
        "Now that all the images have been decompressed and saved as png pictures, let's see one patch sample:"
      ]
    },
    {
      "cell_type": "code",
      "execution_count": 10,
      "metadata": {
        "colab": {
          "base_uri": "https://localhost:8080/",
          "height": 219
        },
        "id": "gVFNR1crVQLm",
        "outputId": "25a5b030-c22f-4356-e652-691eab36e9c2"
      },
      "outputs": [
        {
          "data": {
            "image/png": "[encoded data removed]",
            "text/plain": [
              "<Figure size 200x200 with 1 Axes>"
            ]
          },
          "metadata": {},
          "output_type": "display_data"
        }
      ],
      "source": [
        "img = mpimg.imread('./dataset/train/defect_0.png')\n",
        "plt.figure(figsize=[2,2])\n",
        "plt.imshow(img)\n",
        "plt.show()"
      ]
    },
    {
      "attachments": {},
      "cell_type": "markdown",
      "metadata": {
        "id": "ZjxHJxvHYnF1"
      },
      "source": [
        "This is a defective image. It is very likely that the defect class was **'color'**, since one region is significantly darker. \n",
        "\n",
        "Let's verify that the dataset is **unbalanced**:"
      ]
    },
    {
      "cell_type": "code",
      "execution_count": null,
      "metadata": {
        "colab": {
          "base_uri": "https://localhost:8080/"
        },
        "id": "1p7Q7EJnWf58",
        "outputId": "26d876a0-84c2-412f-abc2-3116f42c24ea"
      },
      "outputs": [
        {
          "data": {
            "image/png": "[encoded data removed]",
            "text/plain": [
              "<Figure size 200x200 with 1 Axes>"
            ]
          },
          "metadata": {},
          "output_type": "display_data"
        }
      ],
      "source": [
        "import os\n",
        "\n",
        "# folder path\n",
        "dir_path = r'./dataset/train/'\n",
        "good_count = 0\n",
        "# Iterate directory\n",
        "for path in os.listdir(dir_path):\n",
        "    # check if current path is a file\n",
        "    if os.path.isfile(os.path.join(dir_path, path)) and 'good' in path:\n",
        "        good_count += 1\n",
        "\n",
        "defect_count = 0\n",
        "# Iterate directory\n",
        "for path in os.listdir(dir_path):\n",
        "    # check if current path is a file\n",
        "    if os.path.isfile(os.path.join(dir_path, path)) and 'defect' in path:\n",
        "        defect_count += 1\n",
        "\n",
        "import matplotlib.pyplot as plt\n",
        "fig = plt.figure(figsize=[2,2])\n",
        "ax = fig.add_axes([0,0,1,1])\n",
        "langs = ['good', 'defect']\n",
        "students = [good_count, defect_count]\n",
        "ax.bar(langs,students)\n",
        "plt.show()"
      ]
    },
    {
      "attachments": {},
      "cell_type": "markdown",
      "metadata": {
        "id": "E_BDsR1-4Tpc"
      },
      "source": [
        "## Baseline results"
      ]
    },
    {
      "attachments": {},
      "cell_type": "markdown",
      "metadata": {
        "id": "-IHRRmouCV1e"
      },
      "source": [
        "In order to draw conclusions on the test set evaluation, we first calculate the baseline F1 results for some 'random' or 'untrained' classifiers, so that we can tell the magnitude of the improvement. We call **r** the fraction of good samples (1/6).\n",
        "\n",
        "- **Random classifier** (classes assigned with same probability 0.5): the precision simplifies to *r*, and the recall simplifies to 0.5. In this case, the F1-score is: $\\frac{2\\times 0.5\\times r}{0.5+r}$, which is **0.25**\n",
        "\n",
        "- **Always true classifier**: The precision simplifies to *r*\n",
        " and the recall is obviously 1. Thus, F1-score is $\\frac{2\\times r}{1+r}$, which is roughly **0.28**\n",
        "\n",
        "Therefore, improving from these results will show that our models are training correctly, and comparing their **F1 score** tells us which ones behaves better."
      ]
    },
    {
      "attachments": {},
      "cell_type": "markdown",
      "metadata": {
        "id": "c4zVb9V8F36k"
      },
      "source": [
        "# Spark Session"
      ]
    },
    {
      "attachments": {},
      "cell_type": "markdown",
      "metadata": {
        "id": "XEuXes43eBzL"
      },
      "source": [
        "We are going to use PySpark MLlib for the machine learning algorithms."
      ]
    },
    {
      "cell_type": "code",
      "execution_count": null,
      "metadata": {
        "id": "8hJlXpI6Lr1R"
      },
      "outputs": [],
      "source": [
        "from pyspark.sql import SparkSession\n",
        "import pyspark.sql.functions as F\n",
        "from pyspark.ml.linalg import DenseVector, VectorUDT\n",
        "from pyspark.sql.functions import avg, col, concat, desc, lit, min, max, split, udf, countDistinct, sum, count\n",
        "from pyspark.sql.types import IntegerType, DoubleType\n",
        "from pyspark.sql import Window\n",
        "from pyspark.ml.image import ImageSchema\n",
        "from pyspark.sql.functions import lit"
      ]
    },
    {
      "cell_type": "code",
      "execution_count": null,
      "metadata": {
        "id": "FpSm14ZGF-Sk"
      },
      "outputs": [],
      "source": [
        "# for cluster mode\n",
        "\"\"\"\n",
        "from pyspark.sql import SparkSession\n",
        "\n",
        "spark = SparkSession.\\\n",
        "        builder.\\\n",
        "        appName(\"sparkify\").\\\n",
        "        master(\"spark://spark-master:7077\").\\\n",
        "        config(\"spark.executor.memory\", \"5120m\").\\\n",
        "        getOrCreate()\n",
        "\"\"\""
      ]
    },
    {
      "cell_type": "code",
      "execution_count": null,
      "metadata": {
        "id": "OPz90tS2FW56"
      },
      "outputs": [],
      "source": [
        "# for local mode\n",
        "spark = SparkSession.builder.getOrCreate()"
      ]
    },
    {
      "attachments": {},
      "cell_type": "markdown",
      "metadata": {
        "id": "pAofDrdqeViN"
      },
      "source": [
        "# Dataset Loading"
      ]
    },
    {
      "cell_type": "code",
      "execution_count": null,
      "metadata": {
        "id": "HXivEzrIF5m8"
      },
      "outputs": [],
      "source": [
        "df = spark.read.format(\"image\").load(\"./dataset/train\")"
      ]
    },
    {
      "attachments": {},
      "cell_type": "markdown",
      "metadata": {
        "id": "H9SKeyTDdjUm"
      },
      "source": [
        "After creating the Spark session and reading the dataset, we want to convert the images to UDT vectors, in order to have them as input to the ML models. We also prepare the 'features' column as expected by the K-Means algorithms, and the 'id' column expected by ANN."
      ]
    },
    {
      "cell_type": "code",
      "execution_count": null,
      "metadata": {
        "id": "1l3L8ibg7oaM"
      },
      "outputs": [],
      "source": [
        "img2vec = F.udf(lambda x: DenseVector(x['data']), VectorUDT())\n",
        "df = df.withColumn('features', img2vec(\"image\"))\n",
        "df = df.withColumn('id', df['image'])"
      ]
    },
    {
      "attachments": {},
      "cell_type": "markdown",
      "metadata": {
        "id": "IZSCOP_7eI28"
      },
      "source": [
        "And then we take a random split for the train and test images."
      ]
    },
    {
      "cell_type": "code",
      "execution_count": null,
      "metadata": {
        "id": "FdAYvip87ZjG"
      },
      "outputs": [],
      "source": [
        "train_df, test_df = df.randomSplit([0.6, 0.4], 28)"
      ]
    },
    {
      "attachments": {},
      "cell_type": "markdown",
      "metadata": {
        "id": "riSa2hvj9OcP"
      },
      "source": [
        "# Approximate Similarity Join"
      ]
    },
    {
      "attachments": {},
      "cell_type": "markdown",
      "metadata": {
        "id": "tf5JTi6KgCgN"
      },
      "source": [
        "Approximate similarity join takes two datasets and approximately returns pairs of rows in the datasets whose **distance is smaller** than a user-defined threshold. \n",
        "\n",
        "**Bucketed Random Projection** is an LSH family for Euclidean distance. The general idea of LSH is to use a family of functions (“LSH families”) to hash data points into buckets, so that the data points which are close to each other are in the same buckets with **high probability**, while data points that are far away from each other are very likely in different buckets."
      ]
    },
    {
      "attachments": {},
      "cell_type": "markdown",
      "metadata": {
        "id": "KwaSxQXkgrXs"
      },
      "source": [
        "In this case the threshold is set at the highest possible distance we can find: since images are 64x64 with 3 channels, the maximum Euclidean distance between to pictures is $\\sqrt{256^2\\times 64^2 \\times 3} ≈ 28378$."
      ]
    },
    {
      "cell_type": "code",
      "execution_count": null,
      "metadata": {
        "colab": {
          "base_uri": "https://localhost:8080/"
        },
        "id": "g-k1nMLg9Q80",
        "outputId": "c459f3f6-7b12-4e7c-e4d5-1418a3a20324"
      },
      "outputs": [
        {
          "name": "stdout",
          "output_type": "stream",
          "text": [
            "The hashed dataset where hashed values are stored in the column 'hashes':\n",
            "+--------------------+--------------------+--------------------+--------------------+\n",
            "|               image|            features|                  id|              hashes|\n",
            "+--------------------+--------------------+--------------------+--------------------+\n",
            "|{file:///content/...|[130.0,130.0,130....|{file:///content/...|[[14.0], [72.0], ...|\n",
            "|{file:///content/...|[78.0,78.0,78.0,2...|{file:///content/...|[[0.0], [26.0], [...|\n",
            "|{file:///content/...|[187.0,187.0,187....|{file:///content/...|[[-4.0], [59.0], ...|\n",
            "|{file:///content/...|[186.0,186.0,186....|{file:///content/...|[[-10.0], [50.0],...|\n",
            "|{file:///content/...|[130.0,130.0,130....|{file:///content/...|[[14.0], [72.0], ...|\n",
            "|{file:///content/...|[186.0,186.0,186....|{file:///content/...|[[-10.0], [50.0],...|\n",
            "|{file:///content/...|[130.0,130.0,130....|{file:///content/...|[[14.0], [72.0], ...|\n",
            "|{file:///content/...|[78.0,78.0,78.0,2...|{file:///content/...|[[0.0], [26.0], [...|\n",
            "|{file:///content/...|[187.0,187.0,187....|{file:///content/...|[[-4.0], [59.0], ...|\n",
            "|{file:///content/...|[186.0,186.0,186....|{file:///content/...|[[-10.0], [50.0],...|\n",
            "|{file:///content/...|[166.0,166.0,166....|{file:///content/...|[[-21.0], [88.0],...|\n",
            "|{file:///content/...|[166.0,166.0,166....|{file:///content/...|[[-21.0], [88.0],...|\n",
            "|{file:///content/...|[127.0,127.0,127....|{file:///content/...|[[13.0], [60.0], ...|\n",
            "|{file:///content/...|[166.0,166.0,166....|{file:///content/...|[[-21.0], [88.0],...|\n",
            "|{file:///content/...|[152.0,152.0,152....|{file:///content/...|[[-10.0], [56.0],...|\n",
            "|{file:///content/...|[152.0,152.0,152....|{file:///content/...|[[-10.0], [56.0],...|\n",
            "|{file:///content/...|[15.0,15.0,15.0,2...|{file:///content/...|[[-9.0], [75.0], ...|\n",
            "|{file:///content/...|[175.0,175.0,175....|{file:///content/...|[[14.0], [15.0], ...|\n",
            "|{file:///content/...|[32.0,32.0,32.0,2...|{file:///content/...|[[-13.0], [27.0],...|\n",
            "|{file:///content/...|[163.0,163.0,163....|{file:///content/...|[[-9.0], [77.0], ...|\n",
            "+--------------------+--------------------+--------------------+--------------------+\n",
            "only showing top 20 rows\n",
            "\n"
          ]
        }
      ],
      "source": [
        "from pyspark.ml.feature import BucketedRandomProjectionLSH\n",
        "from pyspark.ml.linalg import Vectors\n",
        "from pyspark.sql.functions import col\n",
        "\n",
        "brp = BucketedRandomProjectionLSH(inputCol=\"features\", outputCol=\"hashes\", bucketLength=2.0,\n",
        "                                  numHashTables=3)\n",
        "model = brp.fit(train_df)\n",
        "\n",
        "# Feature Transformation\n",
        "print(\"The hashed dataset where hashed values are stored in the column 'hashes':\")\n",
        "model.transform(train_df).show()\n",
        "\n",
        "# Compute the locality sensitive hashes for the input rows, then perform approximate\n",
        "# similarity join.\n",
        "# We could avoid computing hashes by passing in the already-transformed dataset, e.g.\n",
        "# `model.approxSimilarityJoin(transformedA, transformedB, 1.5)`\n",
        "res = model.approxSimilarityJoin(train_df, test_df, 28378, distCol=\"EuclideanDistance\")\\\n",
        "    .select(col(\"datasetA.id\").alias(\"idA\"),\n",
        "            col(\"datasetB.id\").alias(\"idB\"),\n",
        "            col(\"datasetA.features\").alias(\"idAf\"),\n",
        "            col(\"datasetB.features\").alias(\"idBf\"),\n",
        "            col(\"EuclideanDistance\"))"
      ]
    },
    {
      "cell_type": "code",
      "execution_count": null,
      "metadata": {
        "id": "m90Wg1qBCLq3"
      },
      "outputs": [],
      "source": [
        "collected = res.collect()"
      ]
    },
    {
      "cell_type": "code",
      "execution_count": 11,
      "metadata": {
        "colab": {
          "base_uri": "https://localhost:8080/"
        },
        "id": "i5-CyUAK0q93",
        "outputId": "4148d996-f37c-4047-d719-de283314d236"
      },
      "outputs": [
        {
          "name": "stdout",
          "output_type": "stream",
          "text": [
            "f1 score 0.23404255319148937\n"
          ]
        }
      ],
      "source": [
        "f1_scores = [0,0,0,0]\n",
        "\n",
        "for i in collected:\n",
        "  if 'good' in i[1].origin and 'good' in i[0].origin:\n",
        "    f1_scores[0] += 1 # tp\n",
        "  if 'good' in i[1].origin and 'defect' in i[0].origin:\n",
        "    f1_scores[1] += 1 # fn\n",
        "  if 'defect' in i[1].origin and 'good' in i[0].origin:\n",
        "    f1_scores[2] += 1 # fp\n",
        "  if 'defect' in i[1].origin and 'defect' in i[0].origin:\n",
        "    f1_scores[3] += 1 # tn\n",
        "\n",
        "print('f1 score',f1_scores[0]/(f1_scores[0]+0.5*(f1_scores[1]+f1_scores[2])))"
      ]
    },
    {
      "attachments": {},
      "cell_type": "markdown",
      "metadata": {
        "id": "xm2l8zFCD8Nm"
      },
      "source": [
        "# K-means"
      ]
    },
    {
      "attachments": {},
      "cell_type": "markdown",
      "metadata": {
        "id": "Bjzr8OQBm2S2"
      },
      "source": [
        "Let's now test a more robust approach: **clustering**. We expect the results to improve since now we are not comparing testing samples with the training samples one by one but with an entire cluster. \n",
        "\n",
        "There's a slight difference with the previous approach: this one is **unsupervised**. We *accept as hypothesis* that the two clusters found correspond to 'good' and 'defect' labels. There are two ways to choose which one is which, so are going to go with the choice that **maximizes the F1**, expecting the opposite choice to give a very low score."
      ]
    },
    {
      "cell_type": "code",
      "execution_count": null,
      "metadata": {
        "id": "6kzA5vvlMPAw"
      },
      "outputs": [],
      "source": [
        "from pyspark.ml.clustering import KMeans\n",
        "\n",
        "# Trains a k-means model.\n",
        "kmeans = KMeans().setK(2).setSeed(1)\n",
        "model = kmeans.fit(train_df)"
      ]
    },
    {
      "cell_type": "code",
      "execution_count": null,
      "metadata": {
        "id": "PVn8wZiYSnB6"
      },
      "outputs": [],
      "source": [
        "# Make predictions\n",
        "pred_df = model.transform(test_df).toPandas()"
      ]
    },
    {
      "cell_type": "code",
      "execution_count": null,
      "metadata": {
        "colab": {
          "base_uri": "https://localhost:8080/"
        },
        "id": "ZTkr727t5Ern",
        "outputId": "564eb3c5-ef3b-4287-905d-7f112c4054c2"
      },
      "outputs": [
        {
          "name": "stdout",
          "output_type": "stream",
          "text": [
            "f1 score 0.41025641025641024\n"
          ]
        }
      ],
      "source": [
        "f1_scores = [0,0,0,0]\n",
        "\n",
        "for i in pred_df.iloc:\n",
        "  if 'good' in i.image.origin and i.prediction==1:\n",
        "    f1_scores[0] += 1 # tp\n",
        "  if 'good' in i.image.origin and i.prediction==0:\n",
        "    f1_scores[1] += 1 # fn\n",
        "  if 'defect' in i.image.origin and i.prediction==1:\n",
        "    f1_scores[2] += 1 # fp\n",
        "  if 'defect' in i.image.origin and i.prediction==0:\n",
        "    f1_scores[3] += 1 # tn\n",
        "\n",
        "f11 = f1_scores[0]/(f1_scores[0]+0.5*(f1_scores[1]+f1_scores[2]))\n",
        "\n",
        "f1_scores = [0,0,0,0]\n",
        "\n",
        "for i in pred_df.iloc:\n",
        "  if 'good' in i.image.origin and i.prediction==0:\n",
        "    f1_scores[0] += 1 # tp\n",
        "  if 'good' in i.image.origin and i.prediction==1:\n",
        "    f1_scores[1] += 1 # fn\n",
        "  if 'defect' in i.image.origin and i.prediction==0:\n",
        "    f1_scores[2] += 1 # fp\n",
        "  if 'defect' in i.image.origin and i.prediction==1:\n",
        "    f1_scores[3] += 1 # tn\n",
        "\n",
        "f12 = f1_scores[0]/(f1_scores[0]+0.5*(f1_scores[1]+f1_scores[2]))\n",
        "f1s = [f11,f12]\n",
        "print('f1 score',np.max(f1s))"
      ]
    },
    {
      "attachments": {},
      "cell_type": "markdown",
      "metadata": {
        "id": "B9Ox7YVuD-IG"
      },
      "source": [
        "# Bisecting K-means"
      ]
    },
    {
      "attachments": {},
      "cell_type": "markdown",
      "metadata": {
        "id": "ak6Te5v8EAO_"
      },
      "source": [
        "As alternative ML algorithm, we also want to test Bisecting K-Means. \n",
        "\n",
        "Bisecting k-means is a kind of **hierarchical** clustering using a divisive (or “top-down”) approach: all observations start in one cluster, and splits are performed recursively as one moves down the hierarchy.\n",
        "\n",
        "Bisecting K-means can often be much **faster** than regular K-means, but it will generally produce a **different clustering**."
      ]
    },
    {
      "cell_type": "code",
      "execution_count": null,
      "metadata": {
        "id": "fkRal3sXD_NP"
      },
      "outputs": [],
      "source": [
        "from pyspark.ml.clustering import BisectingKMeans\n",
        "\n",
        "# Trains a bisecting k-means model.\n",
        "bkm = BisectingKMeans().setK(2).setSeed(1)\n",
        "model = bkm.fit(train_df)\n",
        "\n",
        "# Make predictions\n",
        "pred_df = model.transform(test_df).toPandas()"
      ]
    },
    {
      "cell_type": "code",
      "execution_count": null,
      "metadata": {
        "colab": {
          "base_uri": "https://localhost:8080/"
        },
        "id": "IYvHwKjDFbuT",
        "outputId": "0207cd09-4c35-48de-be0c-ed76952a5b32"
      },
      "outputs": [
        {
          "name": "stdout",
          "output_type": "stream",
          "text": [
            "f1 score 0.4536082474226804\n"
          ]
        }
      ],
      "source": [
        "f1_scores = [0,0,0,0]\n",
        "\n",
        "for i in pred_df.iloc:\n",
        "  if 'good' in i.image.origin and i.prediction==1:\n",
        "    f1_scores[0] += 1 # tp\n",
        "  if 'good' in i.image.origin and i.prediction==0:\n",
        "    f1_scores[1] += 1 # fn\n",
        "  if 'defect' in i.image.origin and i.prediction==1:\n",
        "    f1_scores[2] += 1 # fp\n",
        "  if 'defect' in i.image.origin and i.prediction==0:\n",
        "    f1_scores[3] += 1 # tn\n",
        "\n",
        "f11 = f1_scores[0]/(f1_scores[0]+0.5*(f1_scores[1]+f1_scores[2]))\n",
        "\n",
        "f1_scores = [0,0,0,0]\n",
        "\n",
        "for i in pred_df.iloc:\n",
        "  if 'good' in i.image.origin and i.prediction==0:\n",
        "    f1_scores[0] += 1 # tp\n",
        "  if 'good' in i.image.origin and i.prediction==1:\n",
        "    f1_scores[1] += 1 # fn\n",
        "  if 'defect' in i.image.origin and i.prediction==0:\n",
        "    f1_scores[2] += 1 # fp\n",
        "  if 'defect' in i.image.origin and i.prediction==1:\n",
        "    f1_scores[3] += 1 # tn\n",
        "\n",
        "f12 = f1_scores[0]/(f1_scores[0]+0.5*(f1_scores[1]+f1_scores[2]))\n",
        "f1s = [f11,f12]\n",
        "print('f1 score',np.max(f1s))"
      ]
    }
  ],
  "metadata": {
    "accelerator": "GPU",
    "colab": {
      "gpuType": "T4",
      "provenance": []
    },
    "gpuClass": "standard",
    "kernelspec": {
      "display_name": "Python 3",
      "name": "python3"
    },
    "language_info": {
      "name": "python"
    }
  },
  "nbformat": 4,
  "nbformat_minor": 0
}
